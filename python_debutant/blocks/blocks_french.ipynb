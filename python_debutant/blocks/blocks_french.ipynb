{
 "cells": [
  {
   "cell_type": "markdown",
   "metadata": {},
   "source": [
    "## Les blocks\n",
    "\n",
    "En Python, les parties de code à exécuter sous condition (les blocks) sont délimités par des indentations.\n",
    "Le code qui marquera le début du block est suivi de \":\"\n",
    "\n",
    "<div class=\"alert alert-danger\">\n",
    "    <b> Keep calm </b>\n",
    "    <br>\n",
    "    Attention aux erreurs d'indentation, cela arrive très souvent. Attention aux réglages de vos éditeurs de code\n",
    "</div>\n",
    "\n",
    "\n",
    "\n",
    "\n",
    "## Expression conditionnelle\n",
    "\n",
    "### Definition\n",
    "\n",
    "L'expression conditionnelle vise à exécuter une partie de code en fonction du résultat d'un test logique.\n",
    "\n",
    "\n",
    "### Structure générale\n",
    "\n",
    "La structure générale est la suivante:\n",
    "```\n",
    "if(cond1):\n",
    "    action1\n",
    "elif(cond2):\n",
    "    action2\n",
    "else:\n",
    "    action3\n",
    "```"
   ]
  },
  {
   "cell_type": "code",
   "execution_count": 1,
   "metadata": {},
   "outputs": [],
   "source": [
    "x = 10\n",
    "y = 10\n",
    "z = 10\n",
    "\n",
    "# Care with the indent\n",
    "if ((x==y) & (x==z)):\n",
    "    print('Equality')\n",
    "elif ((x <= y) & (y <= z)):\n",
    "    print('Increasing order')\n",
    "elif((x >= y) & (y >= z)):\n",
    "    print('Decreasing order')\n",
    "else:\n",
    "    print('No order')"
   ]
  },
  {
   "cell_type": "code",
   "execution_count": 2,
   "metadata": {},
   "outputs": [],
   "source": [
    "x = ['a', 'b', 'c']\n",
    "\n",
    "if 'a' in x:\n",
    "    print('a in list')\n",
    "else:\n",
    "    print('a not in list')\n",
    "    \n",
    "if ('z' in x):\n",
    "    print('z in list')\n",
    "else:\n",
    "    print('z not in list')"
   ]
  },
  {
   "cell_type": "markdown",
   "metadata": {},
   "source": [
    "### Note sur la portée des variables\n",
    "\n",
    "Toute variable créée dans un block ne sera pas visible dans un block supérieur. "
   ]
  },
  {
   "cell_type": "code",
   "execution_count": 3,
   "metadata": {},
   "outputs": [],
   "source": [
    "# Warning if you define some variables inside a block and not in another block\n",
    "x = 10\n",
    "y = 20\n",
    "if(x == y): \n",
    "    z = 20\n",
    "else:\n",
    "    w = 10\n",
    "# print(z) # would crash if x != y\n",
    "# print(w) # would crash if x == y"
   ]
  },
  {
   "cell_type": "markdown",
   "metadata": {},
   "source": [
    "## Les boucles\n",
    "\n",
    "- Les boucles sont utilisées pour répéter une même portion de code plusieurs fois.\n",
    "- La condition pour continuer la boucle repose sur un test conditionnel.\n",
    "- Au même titre qu'un simple test conditionnel, les variables créées dans une boucle ne sont visibles qu'un l'intérieur de la boucle.\n",
    "\n",
    "Il existe en Python 2 structres de contrôle des boucles:\n",
    "\n",
    "    for v in iterable:\n",
    "        action\n",
    "\n",
    "    while(condition):\n",
    "        action\n",
    "        \n",
    "        \n",
    "### les iterables\n",
    "les itérables sont des listes, des arrays, et des types iterables (ce que renvoie par exemple la méthode keys() d'un dictionnaire.\n",
    "\n",
    "Un iterable pratique pour une boucle for : range(start, stop[,step]) et numpy.arange(start, stop[,step])"
   ]
  },
  {
   "cell_type": "code",
   "execution_count": 4,
   "metadata": {
    "scrolled": true
   },
   "outputs": [
    {
     "name": "stdout",
     "output_type": "stream",
     "text": [
      "0\n",
      "1\n",
      "2\n",
      "\n",
      "5\n",
      "9\n",
      "13\n",
      "17\n"
     ]
    }
   ],
   "source": [
    "#la fonction range retourne un objet range iterable\n",
    "for var_ex in range(0,3):\n",
    "    print(var_ex)\n",
    "\n",
    "print()\n",
    "#la fonction numpy arange retourne un numpy array iterable\n",
    "import numpy as np\n",
    "for var_ex in np.arange(5,20,4):\n",
    "    print(var_ex)"
   ]
  },
  {
   "cell_type": "code",
   "execution_count": 5,
   "metadata": {},
   "outputs": [
    {
     "name": "stdout",
     "output_type": "stream",
     "text": [
      "4\n",
      "3\n",
      "2\n",
      "1\n",
      "0\n"
     ]
    }
   ],
   "source": [
    "variable = 5\n",
    "while( variable > 0):\n",
    "    variable = variable - 1\n",
    "    print(variable)"
   ]
  },
  {
   "cell_type": "markdown",
   "metadata": {},
   "source": [
    "## Les fonctions\n",
    "\n",
    "- Les fonctions sont des blocks permettant d'encapsuer du code et de lui soumettre des paramètres"
   ]
  },
  {
   "cell_type": "code",
   "execution_count": 6,
   "metadata": {},
   "outputs": [
    {
     "name": "stdout",
     "output_type": "stream",
     "text": [
      "a² =  0\n",
      "a² =  1\n",
      "a² =  4\n",
      "a² =  9\n",
      "a² =  16\n",
      "a² =  25\n",
      "b² =  25\n",
      "b² =  36\n"
     ]
    }
   ],
   "source": [
    "def carre(a):\n",
    "    return a**2\n",
    "\n",
    "def min(a,b):\n",
    "    if (a>b):\n",
    "        return b\n",
    "    else:\n",
    "        return a\n",
    "    \n",
    "a=0\n",
    "b=5\n",
    "while(a<8):\n",
    "    if(min(a,b)==a):\n",
    "        print(\"a² = \",carre(a))\n",
    "    else:\n",
    "        print(\"b² = \",carre(b))\n",
    "        b=b+1\n",
    "    a = a+1\n",
    "    "
   ]
  },
  {
   "cell_type": "code",
   "execution_count": null,
   "metadata": {},
   "outputs": [],
   "source": []
  }
 ],
 "metadata": {
  "kernelspec": {
   "display_name": "Python 3",
   "language": "python",
   "name": "python3"
  },
  "language_info": {
   "codemirror_mode": {
    "name": "ipython",
    "version": 3
   },
   "file_extension": ".py",
   "mimetype": "text/x-python",
   "name": "python",
   "nbconvert_exporter": "python",
   "pygments_lexer": "ipython3",
   "version": "3.8.3"
  }
 },
 "nbformat": 4,
 "nbformat_minor": 4
}
