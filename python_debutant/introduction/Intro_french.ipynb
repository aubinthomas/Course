{
 "cells": [
  {
   "cell_type": "markdown",
   "metadata": {},
   "source": [
    "# Introduction\n",
    "\n",
    "## Python\n",
    "\n",
    "Python est un langage interprété, de haut niveau, orienté objet.\n",
    "\n",
    "Interprété : les instructions sont traduites à l'exécution par l'interpréteur. Cela impacte les performances mais permet une portabilité de code sur l'ensemble des machines pouvant faire tourner Python.\n",
    "\n",
    "Objet : permet une écriture de code basée sur des objets réutilisables, englobant attributs et méthodes. \n",
    "\n",
    "\n",
    "## Quand utiliser Python?\n",
    "\n",
    "Ses avantages : \n",
    "- portabilité du code\n",
    "- structures de données modernes\n",
    "- une courbe de progression rapide\n",
    "- un ensemble de librairies importante : Mathématiques, Machine Learning, graphiques, bases de données, cartographie\n",
    "\n",
    "Ses faiblesses : \n",
    "- performances, nécessité d'utiliser des librairies spécialisées\n",
    "- Pas de multi-threading\n",
    "\n",
    "\n",
    "\n",
    "## Applications\n",
    "\n",
    "Les applications pricipales de Python:\n",
    "\n",
    "- Development Web: frameworks ([Django](https://www.djangoproject.com/), [Flask](https://www.palletsprojects.com/p/flask/))\n",
    "- Machine learning ([scikit-learn](https://scikit-learn.org/), [TensorFlow](https://www.tensorflow.org/))\n",
    "- Analyse de données ([scipy](https://www.scipy.org/), [pandas](https://pandas.pydata.org/), [xarray](http://xarray.pydata.org/en/stable/))\n",
    "- Visualisation de données ([matplotlib](https://matplotlib.org/), [basemap](https://matplotlib.org/basemap/), [PyNgl](https://www.pyngl.ucar.edu/))\n",
    "- Documentation ([Sphinx](https://www.sphinx-doc.org/en/master/), [Read the Docs](https://readthedocs.org/))\n",
    "- Data download ([cdsapi](https://pypi.org/project/cdsapi/) for *Climate Data Store*, [motuclient](https://pypi.org/project/motuclient/) for *Copernicus Marine Products*)\n",
    "\n",
    "Source: [freecodecamp.org](https://www.freecodecamp.org/news/what-can-you-do-with-python-the-3-main-applications-518db9a68a78/)\n",
    "\n",
    "\n",
    "\n",
    "## Ils utilisent Python\n",
    "\n",
    "Famous Python users:\n",
    "\n",
    "- Dropbox: desktop client\n",
    "- Instragram: website\n",
    "- Netflix, Spotify: analytics for suggestions\n",
    "- Facebook: 21\\% of the codebase\n",
    "- Google: *Python where we can, C++ where we must*\n",
    "\n",
    "Source: [netguru.com](https://www.netguru.com/blog/8-top-companies-that-use-python-for-their-apps-examples-of-top-notch-python-applications)\n",
    "\n",
    "\n",
    "\n",
    "## notes pour le cours\n",
    "\n",
    "Une formation ne sert à rien si elle n'est pas prolongée derrière par de la pratique\n",
    "=> Encouragement à utiliser Python par la suite sur des mini projets"
   ]
  },
  {
   "cell_type": "code",
   "execution_count": null,
   "metadata": {},
   "outputs": [],
   "source": []
  }
 ],
 "metadata": {
  "kernelspec": {
   "display_name": "Python 3",
   "language": "python",
   "name": "python3"
  },
  "language_info": {
   "codemirror_mode": {
    "name": "ipython",
    "version": 3
   },
   "file_extension": ".py",
   "mimetype": "text/x-python",
   "name": "python",
   "nbconvert_exporter": "python",
   "pygments_lexer": "ipython3",
   "version": "3.8.3"
  }
 },
 "nbformat": 4,
 "nbformat_minor": 4
}
