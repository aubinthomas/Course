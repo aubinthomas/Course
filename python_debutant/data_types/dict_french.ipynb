{
 "cells": [
  {
   "cell_type": "markdown",
   "metadata": {},
   "source": [
    "## Dictionnaires\n",
    "\n",
    "### Definition\n",
    "\n",
    "Un dictionnaire, ou hashtable, est vu comme un tableau dont les valeurs sont accessibles par des étiquettes plutôt que des indices.\n",
    "En python, les étiquettes comme les valeurs peuvent être de type différents.\n",
    "\n",
    "<figure>\n",
    "    <center>\n",
    "    <img src=\"figs/tikz_dict.svg\" alt=\"Dictionaries\" text-align=center width=400>\n",
    "     <figcaption text-align=center><i>Dictionary</i></figcaption>\n",
    "</figure>\n",
    "\n",
    "\n",
    "#### Créer des dictionnaires"
   ]
  },
  {
   "cell_type": "code",
   "execution_count": 1,
   "metadata": {},
   "outputs": [
    {
     "name": "stdout",
     "output_type": "stream",
     "text": [
      "{}\n",
      "{}\n",
      "{'popA': 34, 'popB': 72, 1: 24, 2: 47}\n"
     ]
    }
   ],
   "source": [
    "#Pour créer des dictionnaires vides\n",
    "D1 = dict()\n",
    "D2 = {}\n",
    "\n",
    "#Pour créer des dictionnaires avec valeurs initiales\n",
    "D3 = {\"popA\":34 , \"popB\":72 , 1:24, 2:47}\n",
    "\n",
    "print(D1)\n",
    "print(D2)\n",
    "print(D3)"
   ]
  },
  {
   "cell_type": "markdown",
   "metadata": {},
   "source": [
    "#### Ajouter et supprimer des valeurs"
   ]
  },
  {
   "cell_type": "code",
   "execution_count": 2,
   "metadata": {},
   "outputs": [
    {
     "name": "stdout",
     "output_type": "stream",
     "text": [
      "{'work': 'UM', 'work2': 'INSERM'}\n",
      "{'work': 'INRA', 'work2': 'INSERM'}\n"
     ]
    }
   ],
   "source": [
    "#Pour ajouter des valeurs \n",
    "D1['work'] = \"UM\"\n",
    "D1['work2'] = 'INSERM'\n",
    "print(D1)\n",
    "\n",
    "D1['work'] = \"INRA\"  #Une étiquette ne peut apparaitre 2 fois\n",
    "print(D1)"
   ]
  },
  {
   "cell_type": "code",
   "execution_count": 3,
   "metadata": {},
   "outputs": [
    {
     "name": "stdout",
     "output_type": "stream",
     "text": [
      "{'date': '15/01/2007', 'work': 'INRA', 'work2': 'INSERM'}\n"
     ]
    }
   ],
   "source": [
    "D2['date'] = '15/01/2007'\n",
    "D2.update(D1)# concaténer\n",
    "print(D2)\n"
   ]
  },
  {
   "cell_type": "code",
   "execution_count": 4,
   "metadata": {},
   "outputs": [
    {
     "name": "stdout",
     "output_type": "stream",
     "text": [
      "{'date': '15/01/2007', 'work2': 'INSERM'}\n"
     ]
    }
   ],
   "source": [
    "del D2['work'] #supprimer une valeur si elle existe, Erreur sinon\n",
    "print(D2)\n"
   ]
  },
  {
   "cell_type": "markdown",
   "metadata": {},
   "source": [
    "#### Accéder aux valeurs et aux clés"
   ]
  },
  {
   "cell_type": "code",
   "execution_count": 5,
   "metadata": {},
   "outputs": [
    {
     "name": "stdout",
     "output_type": "stream",
     "text": [
      "INRA\n"
     ]
    }
   ],
   "source": [
    "print(D1['work']) # accéder à une valeur particulière"
   ]
  },
  {
   "cell_type": "code",
   "execution_count": 6,
   "metadata": {},
   "outputs": [
    {
     "name": "stdout",
     "output_type": "stream",
     "text": [
      "dict_values(['INRA', 'INSERM'])\n"
     ]
    }
   ],
   "source": [
    "print(D1.values()) # obtenir les valeurs"
   ]
  },
  {
   "cell_type": "code",
   "execution_count": 7,
   "metadata": {},
   "outputs": [
    {
     "name": "stdout",
     "output_type": "stream",
     "text": [
      "dict_keys(['work', 'work2'])\n"
     ]
    }
   ],
   "source": [
    "print(D1.keys()) # obtenir les clés"
   ]
  },
  {
   "cell_type": "markdown",
   "metadata": {},
   "source": [
    "#### Tester l'existence d'une clé / valeur"
   ]
  },
  {
   "cell_type": "code",
   "execution_count": 14,
   "metadata": {},
   "outputs": [
    {
     "name": "stdout",
     "output_type": "stream",
     "text": [
      "{'popA': 34, 'popB': 72, 1: 24, 2: 47}\n",
      "True\n",
      "True\n",
      "True\n"
     ]
    }
   ],
   "source": [
    "print(D3)\n",
    "\n",
    "print('popA' in D3) # tester l'existence\n",
    "print('popC' not in D3) # tester la non existence\n",
    "print(34 in D3.values())"
   ]
  },
  {
   "cell_type": "code",
   "execution_count": null,
   "metadata": {},
   "outputs": [],
   "source": []
  }
 ],
 "metadata": {
  "kernelspec": {
   "display_name": "Python 3",
   "language": "python",
   "name": "python3"
  },
  "language_info": {
   "codemirror_mode": {
    "name": "ipython",
    "version": 3
   },
   "file_extension": ".py",
   "mimetype": "text/x-python",
   "name": "python",
   "nbconvert_exporter": "python",
   "pygments_lexer": "ipython3",
   "version": "3.8.3"
  }
 },
 "nbformat": 4,
 "nbformat_minor": 4
}
