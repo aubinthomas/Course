{
 "cells": [
  {
   "cell_type": "markdown",
   "metadata": {},
   "source": [
    "## Listes\n",
    "\n",
    "### Définition\n",
    "\n",
    "Une liste est une variable enregistrant une liste ordonnée d'éléments qui ne sont pas nécessairement de même type. \n",
    "\n",
    "<figure>\n",
    "    <center>\n",
    "    <img src=\"figs/tikz_list.svg\" alt=\"Static typing\" text-align=center width=400>\n",
    "     <figcaption text-align=center><i>Liste</i></figcaption>\n",
    "</figure>\n",
    "\n",
    "<div class='alert alert-info'>\n",
    "    Note : les chaines de caractères sont un cas particulier de listes\n",
    "</div>"
   ]
  },
  {
   "cell_type": "markdown",
   "metadata": {},
   "source": [
    "### Création, assignation et lecture de valeurs"
   ]
  },
  {
   "cell_type": "code",
   "execution_count": 1,
   "metadata": {},
   "outputs": [
    {
     "name": "stdout",
     "output_type": "stream",
     "text": [
      "a est de type  <class 'list'>  et de taille  4\n",
      "b est de type  <class 'list'>  et de taille  0\n"
     ]
    }
   ],
   "source": [
    "a = [10,2,3.6,\"test\"] # on peut donner directement la valeur\n",
    "b = list() # ou alors déclarer son type\n",
    "print(\"a est de type \", type(a), \" et de taille \",len(a))\n",
    "print(\"b est de type \", type(b), \" et de taille \",len(b))"
   ]
  },
  {
   "cell_type": "code",
   "execution_count": 2,
   "metadata": {},
   "outputs": [
    {
     "name": "stdout",
     "output_type": "stream",
     "text": [
      "10\n",
      "3.6\n"
     ]
    }
   ],
   "source": [
    "print(a[0])     #le premier indice est 0 \n",
    "print(a[2])"
   ]
  },
  {
   "cell_type": "code",
   "execution_count": 3,
   "metadata": {},
   "outputs": [
    {
     "name": "stdout",
     "output_type": "stream",
     "text": [
      "[2, 3.6]\n"
     ]
    }
   ],
   "source": [
    "print(a[1:3])     #accéder à une plage de valeur"
   ]
  },
  {
   "cell_type": "code",
   "execution_count": 4,
   "metadata": {},
   "outputs": [
    {
     "ename": "IndexError",
     "evalue": "list assignment index out of range",
     "output_type": "error",
     "traceback": [
      "\u001b[1;31m---------------------------------------------------------------------------\u001b[0m",
      "\u001b[1;31mIndexError\u001b[0m                                Traceback (most recent call last)",
      "\u001b[1;32m<ipython-input-4-24df60f073b8>\u001b[0m in \u001b[0;36m<module>\u001b[1;34m\u001b[0m\n\u001b[1;32m----> 1\u001b[1;33m \u001b[0ma\u001b[0m\u001b[1;33m[\u001b[0m\u001b[1;36m5\u001b[0m\u001b[1;33m]\u001b[0m \u001b[1;33m=\u001b[0m \u001b[1;36m2\u001b[0m \u001b[1;31m#renvoie une erreur\u001b[0m\u001b[1;33m\u001b[0m\u001b[1;33m\u001b[0m\u001b[0m\n\u001b[0m",
      "\u001b[1;31mIndexError\u001b[0m: list assignment index out of range"
     ]
    }
   ],
   "source": [
    "a[5] = 2 #renvoie une erreur"
   ]
  },
  {
   "cell_type": "code",
   "execution_count": 5,
   "metadata": {},
   "outputs": [
    {
     "data": {
      "text/plain": [
       "['__add__',\n",
       " '__class__',\n",
       " '__contains__',\n",
       " '__delattr__',\n",
       " '__delitem__',\n",
       " '__dir__',\n",
       " '__doc__',\n",
       " '__eq__',\n",
       " '__format__',\n",
       " '__ge__',\n",
       " '__getattribute__',\n",
       " '__getitem__',\n",
       " '__gt__',\n",
       " '__hash__',\n",
       " '__iadd__',\n",
       " '__imul__',\n",
       " '__init__',\n",
       " '__init_subclass__',\n",
       " '__iter__',\n",
       " '__le__',\n",
       " '__len__',\n",
       " '__lt__',\n",
       " '__mul__',\n",
       " '__ne__',\n",
       " '__new__',\n",
       " '__reduce__',\n",
       " '__reduce_ex__',\n",
       " '__repr__',\n",
       " '__reversed__',\n",
       " '__rmul__',\n",
       " '__setattr__',\n",
       " '__setitem__',\n",
       " '__sizeof__',\n",
       " '__str__',\n",
       " '__subclasshook__',\n",
       " 'append',\n",
       " 'clear',\n",
       " 'copy',\n",
       " 'count',\n",
       " 'extend',\n",
       " 'index',\n",
       " 'insert',\n",
       " 'pop',\n",
       " 'remove',\n",
       " 'reverse',\n",
       " 'sort']"
      ]
     },
     "execution_count": 5,
     "metadata": {},
     "output_type": "execute_result"
    }
   ],
   "source": [
    "dir(a)"
   ]
  },
  {
   "cell_type": "markdown",
   "metadata": {},
   "source": [
    "### Ajout et suppression de valeurs"
   ]
  },
  {
   "cell_type": "code",
   "execution_count": 6,
   "metadata": {},
   "outputs": [
    {
     "name": "stdout",
     "output_type": "stream",
     "text": [
      "[10, 2, 3.6, 'test', 50]\n"
     ]
    }
   ],
   "source": [
    "a.append(50)    #append permet d'ajouter en \n",
    "print(a)"
   ]
  },
  {
   "cell_type": "code",
   "execution_count": 7,
   "metadata": {},
   "outputs": [
    {
     "name": "stdout",
     "output_type": "stream",
     "text": [
      "[10, 2, 3.6, 'test']\n",
      "[10, 3.6, 'test']\n"
     ]
    }
   ],
   "source": [
    "a.pop()  #delete the last element\n",
    "print(a)\n",
    "a.remove(2)   #delete the element in argument\n",
    "print(a)\n"
   ]
  },
  {
   "cell_type": "markdown",
   "metadata": {},
   "source": [
    "### Copies\n",
    "\n",
    "Attention! En dehors des simples variables unitaires, les opérations sur les listes, tableaux et objets renvoient une simple référence mémoire à l'objet."
   ]
  },
  {
   "cell_type": "code",
   "execution_count": null,
   "metadata": {},
   "outputs": [],
   "source": [
    "Bex = ['Pic', 'Saint', 'Loup']\n",
    "Cex = Bex\n",
    "print(Cex)\n",
    "Bex[1] = \"A\"\n",
    "Cex[2] = \"Glace\"\n",
    "\n",
    "print(Bex)\n",
    "print(Cex)\n",
    "\n"
   ]
  },
  {
   "cell_type": "markdown",
   "metadata": {},
   "source": [
    "Si vous souhaitez avoir en retour une copie indépendante, utiliser la méthode copy."
   ]
  },
  {
   "cell_type": "code",
   "execution_count": null,
   "metadata": {},
   "outputs": [],
   "source": [
    "Bex = ['Pic', 'Saint', 'Loup']\n",
    "Cex = Bex.copy()\n",
    "print(Cex)\n",
    "Bex[1] = \"A\"\n",
    "Cex[2] = \"Glace\"\n",
    "\n",
    "print(Bex)\n",
    "print(Cex)\n"
   ]
  },
  {
   "cell_type": "markdown",
   "metadata": {},
   "source": [
    "### Opérations sur les listes\n",
    "\n",
    "Les objets listes ne sont pas des tableaux! Pour cela il existe les objets Array. Les opérations numériques sont traitées comme des opérations sur chaines de caractère"
   ]
  },
  {
   "cell_type": "code",
   "execution_count": null,
   "metadata": {},
   "outputs": [],
   "source": [
    "print(a)\n",
    "b = a*2\n",
    "print(b)\n",
    "c = a+a+a\n",
    "print(c)"
   ]
  },
  {
   "cell_type": "markdown",
   "metadata": {},
   "source": [
    "Exercice\n",
    "\n",
    "- Créer une liste avec les valeurs suivantes : 1,10, 4, 50, 4, 37, 2, 4\n",
    "- Utiliser la fonction dir pour lister les méthodes disponibles pour la liste créée\n",
    "- Effectuer un tri sur la liste\n",
    "- Compter combien de 4 sont présents dans la liste\n"
   ]
  },
  {
   "cell_type": "code",
   "execution_count": null,
   "metadata": {},
   "outputs": [],
   "source": [
    "Solution = [1,10, 4, 50, 4, 37, 2, 4]\n",
    "Solution.append(4)\n",
    "Solution.sort()\n",
    "print(Solution.count(4))\n",
    "print(Solution.count(4)>2)\n",
    "\n"
   ]
  },
  {
   "cell_type": "code",
   "execution_count": null,
   "metadata": {},
   "outputs": [],
   "source": []
  }
 ],
 "metadata": {
  "kernelspec": {
   "display_name": "Python 3",
   "language": "python",
   "name": "python3"
  },
  "language_info": {
   "codemirror_mode": {
    "name": "ipython",
    "version": 3
   },
   "file_extension": ".py",
   "mimetype": "text/x-python",
   "name": "python",
   "nbconvert_exporter": "python",
   "pygments_lexer": "ipython3",
   "version": "3.8.3"
  }
 },
 "nbformat": 4,
 "nbformat_minor": 4
}
