{
 "cells": [
  {
   "cell_type": "markdown",
   "metadata": {},
   "source": [
    "## Dictionnaires\n",
    "\n",
    "### Definition\n",
    "\n",
    "Un dictionnaire, ou hashtable, est vu comme un tableau dont les valeurs sont accessibles par des étiquettes plutôt que des indices.\n",
    "En python, les étiquettes comme les valeurs peuvent être de type différents.\n",
    "\n",
    "<figure>\n",
    "    <center>\n",
    "    <img src=\"figs/tikz_dict.svg\" alt=\"Dictionaries\" text-align=center width=400>\n",
    "     <figcaption text-align=center><i>Dictionary</i></figcaption>\n",
    "</figure>\n",
    "\n",
    "\n",
    "#### Créer des dictionnaires"
   ]
  },
  {
   "cell_type": "code",
   "execution_count": 1,
   "metadata": {},
   "outputs": [
    {
     "name": "stdout",
     "output_type": "stream",
     "text": [
      "{}\n",
      "{}\n",
      "{'popA': 34, 'popB': 72, 1: 24, 2: 47}\n"
     ]
    }
   ],
   "source": [
    "#Pour créer des dictionnaires vides\n",
    "D1 = dict()\n",
    "D2 = {}\n",
    "\n",
    "#Pour créer des dictionnaires avec valeurs initiales\n",
    "D3 = {\"popA\":34 , \"popB\":72 , 1:24, 2:47}\n",
    "\n",
    "print(D1)\n",
    "print(D2)\n",
    "print(D3)"
   ]
  },
  {
   "cell_type": "markdown",
   "metadata": {},
   "source": [
    "#### Ajouter et supprimer des valeurs"
   ]
  },
  {
   "cell_type": "code",
   "execution_count": 2,
   "metadata": {},
   "outputs": [
    {
     "name": "stdout",
     "output_type": "stream",
     "text": [
      "{'work': 'UM', 'work2': 'INSERM'}\n",
      "{'work': 'INRA', 'work2': 'INSERM'}\n"
     ]
    }
   ],
   "source": [
    "#Pour ajouter des valeurs \n",
    "D1['work'] = \"UM\"\n",
    "D1['work2'] = 'INSERM'\n",
    "print(D1)\n",
    "\n",
    "D1['work'] = \"INRA\"  #Une étiquette ne peut apparaitre 2 fois\n",
    "print(D1)"
   ]
  },
  {
   "cell_type": "code",
   "execution_count": 3,
   "metadata": {},
   "outputs": [
    {
     "ename": "AttributeError",
     "evalue": "'dict' object has no attribute 'appen'",
     "output_type": "error",
     "traceback": [
      "\u001b[1;31m---------------------------------------------------------------------------\u001b[0m",
      "\u001b[1;31mAttributeError\u001b[0m                            Traceback (most recent call last)",
      "\u001b[1;32m<ipython-input-3-bbc4721d2fb6>\u001b[0m in \u001b[0;36m<module>\u001b[1;34m\u001b[0m\n\u001b[0;32m      1\u001b[0m \u001b[0mD2\u001b[0m\u001b[1;33m[\u001b[0m\u001b[1;34m'date'\u001b[0m\u001b[1;33m]\u001b[0m \u001b[1;33m=\u001b[0m \u001b[1;34m'15/01/2007'\u001b[0m\u001b[1;33m\u001b[0m\u001b[1;33m\u001b[0m\u001b[0m\n\u001b[1;32m----> 2\u001b[1;33m \u001b[0mD2\u001b[0m\u001b[1;33m.\u001b[0m\u001b[0mappen\u001b[0m\u001b[1;33m(\u001b[0m\u001b[0mD1\u001b[0m\u001b[1;33m)\u001b[0m\u001b[1;33m\u001b[0m\u001b[1;33m\u001b[0m\u001b[0m\n\u001b[0m\u001b[0;32m      3\u001b[0m \u001b[0mprint\u001b[0m\u001b[1;33m(\u001b[0m\u001b[0mD2\u001b[0m\u001b[1;33m)\u001b[0m\u001b[1;33m\u001b[0m\u001b[1;33m\u001b[0m\u001b[0m\n",
      "\u001b[1;31mAttributeError\u001b[0m: 'dict' object has no attribute 'appen'"
     ]
    }
   ],
   "source": [
    "D2['date'] = '15/01/2007'\n",
    "D2.append(D1)\n",
    "print(D2)\n"
   ]
  },
  {
   "cell_type": "code",
   "execution_count": null,
   "metadata": {},
   "outputs": [],
   "source": []
  }
 ],
 "metadata": {
  "kernelspec": {
   "display_name": "Python 3",
   "language": "python",
   "name": "python3"
  },
  "language_info": {
   "codemirror_mode": {
    "name": "ipython",
    "version": 3
   },
   "file_extension": ".py",
   "mimetype": "text/x-python",
   "name": "python",
   "nbconvert_exporter": "python",
   "pygments_lexer": "ipython3",
   "version": "3.8.3"
  }
 },
 "nbformat": 4,
 "nbformat_minor": 4
}
